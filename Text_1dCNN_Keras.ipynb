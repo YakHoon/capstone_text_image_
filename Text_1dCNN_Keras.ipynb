{
 "cells": [
  {
   "cell_type": "code",
   "execution_count": 63,
   "id": "c6e8882f",
   "metadata": {},
   "outputs": [
    {
     "name": "stdout",
     "output_type": "stream",
     "text": [
      "(16986, 6)\n",
      "id          0\n",
      "img_path    0\n",
      "overview    0\n",
      "cat1        0\n",
      "cat2        0\n",
      "cat3        0\n",
      "dtype: int64\n",
      "(16986, 6)\n",
      "(7280, 3)\n"
     ]
    }
   ],
   "source": [
    "import numpy as np\n",
    "import pandas as pd\n",
    "import seaborn as sns\n",
    "import tensorflow as tf\n",
    "from tensorflow import keras\n",
    "import matplotlib.pyplot as plt\n",
    "from sklearn.model_selection import train_test_split\n",
    "import urllib.request\n",
    "from gensim.models.word2vec import Word2Vec\n",
    "from gensim.models import KeyedVectors\n",
    "from konlpy.tag import Mecab\n",
    "from tqdm import tqdm\n",
    "from torchtext import data\n",
    "from torchtext.data import Iterator\n",
    "\n",
    "mecab = Mecab()\n",
    "\n",
    "location = '/Users/kimjonghun/Desktop/3-2학기/캡스톤/open/'\n",
    "\n",
    "train_csv = pd.read_csv(location + 'train.csv')\n",
    "test_csv = pd.read_csv(location + 'test.csv')\n",
    "\n",
    "print(train_csv.shape)\n",
    "print(train_csv.isnull().sum())\n",
    "train_csv.dropna(inplace = True)\n",
    "print(train_csv.shape)\n",
    "print(test_csv.shape)\n"
   ]
  },
  {
   "cell_type": "code",
   "execution_count": 64,
   "id": "de5b136a",
   "metadata": {},
   "outputs": [
    {
     "data": {
      "text/html": [
       "<div>\n",
       "<style scoped>\n",
       "    .dataframe tbody tr th:only-of-type {\n",
       "        vertical-align: middle;\n",
       "    }\n",
       "\n",
       "    .dataframe tbody tr th {\n",
       "        vertical-align: top;\n",
       "    }\n",
       "\n",
       "    .dataframe thead th {\n",
       "        text-align: right;\n",
       "    }\n",
       "</style>\n",
       "<table border=\"1\" class=\"dataframe\">\n",
       "  <thead>\n",
       "    <tr style=\"text-align: right;\">\n",
       "      <th></th>\n",
       "      <th>id</th>\n",
       "      <th>img_path</th>\n",
       "      <th>overview</th>\n",
       "      <th>cat1</th>\n",
       "      <th>cat2</th>\n",
       "      <th>cat3</th>\n",
       "    </tr>\n",
       "  </thead>\n",
       "  <tbody>\n",
       "    <tr>\n",
       "      <th>0</th>\n",
       "      <td>TRAIN_00000</td>\n",
       "      <td>./image/train/TRAIN_00000.jpg</td>\n",
       "      <td>소안항은 조용한 섬으로 인근해안이 청정해역으로 일찍이 김 양식을 해서 높은 소득을 ...</td>\n",
       "      <td>자연</td>\n",
       "      <td>자연관광지</td>\n",
       "      <td>항구/포구</td>\n",
       "    </tr>\n",
       "    <tr>\n",
       "      <th>1</th>\n",
       "      <td>TRAIN_00001</td>\n",
       "      <td>./image/train/TRAIN_00001.jpg</td>\n",
       "      <td>경기도 이천시 모가면에 있는 골프장으로 대중제 18홀이다. 회원제로 개장을 했다가 ...</td>\n",
       "      <td>레포츠</td>\n",
       "      <td>육상 레포츠</td>\n",
       "      <td>골프</td>\n",
       "    </tr>\n",
       "    <tr>\n",
       "      <th>2</th>\n",
       "      <td>TRAIN_00002</td>\n",
       "      <td>./image/train/TRAIN_00002.jpg</td>\n",
       "      <td>금오산성숯불갈비는 한우고기만을 전문적으로 취급하고 사용하는 부식 자재 또한 유기농법...</td>\n",
       "      <td>음식</td>\n",
       "      <td>음식점</td>\n",
       "      <td>한식</td>\n",
       "    </tr>\n",
       "    <tr>\n",
       "      <th>3</th>\n",
       "      <td>TRAIN_00003</td>\n",
       "      <td>./image/train/TRAIN_00003.jpg</td>\n",
       "      <td>철판 위에서 요리하는 안동찜닭을 맛볼 수 있는 곳이다. 경상북도 안동시에 있는 한식...</td>\n",
       "      <td>음식</td>\n",
       "      <td>음식점</td>\n",
       "      <td>한식</td>\n",
       "    </tr>\n",
       "    <tr>\n",
       "      <th>4</th>\n",
       "      <td>TRAIN_00004</td>\n",
       "      <td>./image/train/TRAIN_00004.jpg</td>\n",
       "      <td>※ 영업시간 10:30 ~ 20:30\\n\\n3대에 걸쳐 아귀만을 전문으로 취급하는 ...</td>\n",
       "      <td>음식</td>\n",
       "      <td>음식점</td>\n",
       "      <td>한식</td>\n",
       "    </tr>\n",
       "    <tr>\n",
       "      <th>...</th>\n",
       "      <td>...</td>\n",
       "      <td>...</td>\n",
       "      <td>...</td>\n",
       "      <td>...</td>\n",
       "      <td>...</td>\n",
       "      <td>...</td>\n",
       "    </tr>\n",
       "    <tr>\n",
       "      <th>16981</th>\n",
       "      <td>TRAIN_16981</td>\n",
       "      <td>./image/train/TRAIN_16981.jpg</td>\n",
       "      <td>해발 12000m에 자리한 식담겸 카페점문점이다.&lt;br&gt;곤드레밥과 감자전을 판매하고...</td>\n",
       "      <td>음식</td>\n",
       "      <td>음식점</td>\n",
       "      <td>한식</td>\n",
       "    </tr>\n",
       "    <tr>\n",
       "      <th>16982</th>\n",
       "      <td>TRAIN_16982</td>\n",
       "      <td>./image/train/TRAIN_16982.jpg</td>\n",
       "      <td>설악힐호텔은 동해고속도로 속초톨게이트에서 멀지 않은 관광로 변에 있다. 속초의 대표...</td>\n",
       "      <td>숙박</td>\n",
       "      <td>숙박시설</td>\n",
       "      <td>모텔</td>\n",
       "    </tr>\n",
       "    <tr>\n",
       "      <th>16983</th>\n",
       "      <td>TRAIN_16983</td>\n",
       "      <td>./image/train/TRAIN_16983.jpg</td>\n",
       "      <td>충남 서산시 중심가에 위치한 줌모텔은 프라이버스가 보장되는 조용한 공간으로 가치가 ...</td>\n",
       "      <td>숙박</td>\n",
       "      <td>숙박시설</td>\n",
       "      <td>모텔</td>\n",
       "    </tr>\n",
       "    <tr>\n",
       "      <th>16984</th>\n",
       "      <td>TRAIN_16984</td>\n",
       "      <td>./image/train/TRAIN_16984.jpg</td>\n",
       "      <td>토토큰바위캠핑장은 경기도 가평지역 내에서도 청정지역으로 손꼽히는 지역으로 주변에 화...</td>\n",
       "      <td>레포츠</td>\n",
       "      <td>육상 레포츠</td>\n",
       "      <td>야영장,오토캠핑장</td>\n",
       "    </tr>\n",
       "    <tr>\n",
       "      <th>16985</th>\n",
       "      <td>TRAIN_16985</td>\n",
       "      <td>./image/train/TRAIN_16985.jpg</td>\n",
       "      <td>포천의 진산으로 불리우는 왕방산(王訪山)에는 천년의 역사를 간직하고 있는 왕산사(王...</td>\n",
       "      <td>인문(문화/예술/역사)</td>\n",
       "      <td>역사관광지</td>\n",
       "      <td>사찰</td>\n",
       "    </tr>\n",
       "  </tbody>\n",
       "</table>\n",
       "<p>16986 rows × 6 columns</p>\n",
       "</div>"
      ],
      "text/plain": [
       "                id                       img_path  \\\n",
       "0      TRAIN_00000  ./image/train/TRAIN_00000.jpg   \n",
       "1      TRAIN_00001  ./image/train/TRAIN_00001.jpg   \n",
       "2      TRAIN_00002  ./image/train/TRAIN_00002.jpg   \n",
       "3      TRAIN_00003  ./image/train/TRAIN_00003.jpg   \n",
       "4      TRAIN_00004  ./image/train/TRAIN_00004.jpg   \n",
       "...            ...                            ...   \n",
       "16981  TRAIN_16981  ./image/train/TRAIN_16981.jpg   \n",
       "16982  TRAIN_16982  ./image/train/TRAIN_16982.jpg   \n",
       "16983  TRAIN_16983  ./image/train/TRAIN_16983.jpg   \n",
       "16984  TRAIN_16984  ./image/train/TRAIN_16984.jpg   \n",
       "16985  TRAIN_16985  ./image/train/TRAIN_16985.jpg   \n",
       "\n",
       "                                                overview          cat1  \\\n",
       "0      소안항은 조용한 섬으로 인근해안이 청정해역으로 일찍이 김 양식을 해서 높은 소득을 ...            자연   \n",
       "1      경기도 이천시 모가면에 있는 골프장으로 대중제 18홀이다. 회원제로 개장을 했다가 ...           레포츠   \n",
       "2      금오산성숯불갈비는 한우고기만을 전문적으로 취급하고 사용하는 부식 자재 또한 유기농법...            음식   \n",
       "3      철판 위에서 요리하는 안동찜닭을 맛볼 수 있는 곳이다. 경상북도 안동시에 있는 한식...            음식   \n",
       "4      ※ 영업시간 10:30 ~ 20:30\\n\\n3대에 걸쳐 아귀만을 전문으로 취급하는 ...            음식   \n",
       "...                                                  ...           ...   \n",
       "16981  해발 12000m에 자리한 식담겸 카페점문점이다.<br>곤드레밥과 감자전을 판매하고...            음식   \n",
       "16982  설악힐호텔은 동해고속도로 속초톨게이트에서 멀지 않은 관광로 변에 있다. 속초의 대표...            숙박   \n",
       "16983  충남 서산시 중심가에 위치한 줌모텔은 프라이버스가 보장되는 조용한 공간으로 가치가 ...            숙박   \n",
       "16984  토토큰바위캠핑장은 경기도 가평지역 내에서도 청정지역으로 손꼽히는 지역으로 주변에 화...           레포츠   \n",
       "16985  포천의 진산으로 불리우는 왕방산(王訪山)에는 천년의 역사를 간직하고 있는 왕산사(王...  인문(문화/예술/역사)   \n",
       "\n",
       "         cat2       cat3  \n",
       "0       자연관광지      항구/포구  \n",
       "1      육상 레포츠         골프  \n",
       "2         음식점         한식  \n",
       "3         음식점         한식  \n",
       "4         음식점         한식  \n",
       "...       ...        ...  \n",
       "16981     음식점         한식  \n",
       "16982    숙박시설         모텔  \n",
       "16983    숙박시설         모텔  \n",
       "16984  육상 레포츠  야영장,오토캠핑장  \n",
       "16985   역사관광지         사찰  \n",
       "\n",
       "[16986 rows x 6 columns]"
      ]
     },
     "execution_count": 64,
     "metadata": {},
     "output_type": "execute_result"
    }
   ],
   "source": [
    "train_csv"
   ]
  },
  {
   "cell_type": "code",
   "execution_count": 65,
   "id": "d1a5261c",
   "metadata": {},
   "outputs": [],
   "source": [
    "train_csv['overview'] = train_csv.overview.apply(mecab.nouns)"
   ]
  },
  {
   "cell_type": "code",
   "execution_count": 66,
   "id": "2ffedea6",
   "metadata": {},
   "outputs": [],
   "source": [
    "df_drop = train_csv[['overview', 'cat3']]"
   ]
  },
  {
   "cell_type": "code",
   "execution_count": 67,
   "id": "c4a29645",
   "metadata": {},
   "outputs": [
    {
     "name": "stdout",
     "output_type": "stream",
     "text": [
      "[[0. 0. 0. ... 0. 0. 0.]\n",
      " [0. 0. 0. ... 0. 0. 0.]\n",
      " [0. 0. 0. ... 0. 0. 0.]\n",
      " ...\n",
      " [0. 0. 0. ... 0. 0. 0.]\n",
      " [0. 0. 0. ... 0. 0. 0.]\n",
      " [0. 0. 0. ... 0. 0. 0.]]\n",
      "(16986, 128)\n"
     ]
    }
   ],
   "source": [
    "#cat3 원핫인코딩\n",
    "from sklearn.preprocessing import OneHotEncoder\n",
    "import numpy as np\n",
    "from sklearn import preprocessing\n",
    "\n",
    "#Step1: 모든 문자를 숫자형으로 변환합니다.\n",
    "encoder = preprocessing.LabelEncoder()\n",
    "encoder.fit(df_drop['cat3'])\n",
    "cat3 = encoder.transform(df_drop['cat3'])\n",
    "\n",
    "#Step2: 2차원 데이터로 변환합니다.\n",
    "cat3 = cat3.reshape(-1, 1)\n",
    "\n",
    "#Step3: One-Hot Encoding 적용합니다.\n",
    "one_hot_encoder = OneHotEncoder()\n",
    "one_hot_encoder.fit(cat3)\n",
    "one_hot_cat3 = one_hot_encoder.transform(cat3)\n",
    "print(one_hot_cat3.toarray())\n",
    "print(one_hot_cat3.shape)"
   ]
  },
  {
   "cell_type": "code",
   "execution_count": 74,
   "id": "ead00197",
   "metadata": {},
   "outputs": [],
   "source": [
    "#overview 정수인코딩\n",
    "from tensorflow.keras.preprocessing.text import Tokenizer\n",
    "\n",
    "tokenizer = Tokenizer()\n",
    "tokenizer.fit_on_texts(train_csv['overview'])\n",
    "encoded_overview = tokenizer.texts_to_sequences(train_csv['overview'])\n"
   ]
  },
  {
   "cell_type": "code",
   "execution_count": 75,
   "id": "e5fe2e91",
   "metadata": {},
   "outputs": [
    {
     "name": "stdout",
     "output_type": "stream",
     "text": [
      "최대 길이 : 1475\n"
     ]
    }
   ],
   "source": [
    "max_len = max(len(item) for item in encoded_overview)\n",
    "print('최대 길이 :',max_len)"
   ]
  },
  {
   "cell_type": "code",
   "execution_count": 101,
   "id": "863de320",
   "metadata": {},
   "outputs": [],
   "source": [
    "max_len = 1475\n",
    "encoded_overview = pad_sequences(encoded_overview, maxlen=max_len)"
   ]
  },
  {
   "cell_type": "code",
   "execution_count": 102,
   "id": "950eff0e",
   "metadata": {},
   "outputs": [
    {
     "data": {
      "text/plain": [
       "(16986, 1475)"
      ]
     },
     "execution_count": 102,
     "metadata": {},
     "output_type": "execute_result"
    }
   ],
   "source": [
    "encoded_overview.shape"
   ]
  },
  {
   "cell_type": "code",
   "execution_count": 104,
   "id": "028e3b26",
   "metadata": {},
   "outputs": [],
   "source": [
    "#one_hot_cat3 = one_hot_cat3.toarray()"
   ]
  },
  {
   "cell_type": "code",
   "execution_count": 109,
   "id": "d013f52b",
   "metadata": {},
   "outputs": [],
   "source": [
    "from sklearn.model_selection import train_test_split\n",
    "\n",
    "data = encoded_overview\n",
    "target = one_hot_cat3\n",
    "\n",
    "# train_test_split\n",
    "x_train, x_valid, y_train, y_valid = train_test_split(data, target, test_size=0.2, shuffle=True, stratify=target, random_state=34)"
   ]
  },
  {
   "cell_type": "code",
   "execution_count": 110,
   "id": "70055939",
   "metadata": {},
   "outputs": [
    {
     "name": "stdout",
     "output_type": "stream",
     "text": [
      "Epoch 1/20\n"
     ]
    },
    {
     "name": "stderr",
     "output_type": "stream",
     "text": [
      "2022-11-14 23:27:14.114674: I tensorflow/core/grappler/optimizers/custom_graph_optimizer_registry.cc:113] Plugin optimizer for device_type GPU is enabled.\n"
     ]
    },
    {
     "name": "stdout",
     "output_type": "stream",
     "text": [
      "425/425 [==============================] - ETA: 0s - loss: 2.7971 - accuracy: 0.4161"
     ]
    },
    {
     "name": "stderr",
     "output_type": "stream",
     "text": [
      "2022-11-14 23:28:23.978470: I tensorflow/core/grappler/optimizers/custom_graph_optimizer_registry.cc:113] Plugin optimizer for device_type GPU is enabled.\n"
     ]
    },
    {
     "name": "stdout",
     "output_type": "stream",
     "text": [
      "WARNING:tensorflow:Can save best model only with val_acc available, skipping.\n",
      "425/425 [==============================] - 75s 175ms/step - loss: 2.7971 - accuracy: 0.4161 - val_loss: 1.8082 - val_accuracy: 0.5931\n",
      "Epoch 2/20\n",
      "425/425 [==============================] - ETA: 0s - loss: 1.5948 - accuracy: 0.6306WARNING:tensorflow:Can save best model only with val_acc available, skipping.\n",
      "425/425 [==============================] - 70s 164ms/step - loss: 1.5948 - accuracy: 0.6306 - val_loss: 1.1108 - val_accuracy: 0.7466\n",
      "Epoch 3/20\n",
      "425/425 [==============================] - ETA: 0s - loss: 1.0257 - accuracy: 0.7482WARNING:tensorflow:Can save best model only with val_acc available, skipping.\n",
      "425/425 [==============================] - 69s 163ms/step - loss: 1.0257 - accuracy: 0.7482 - val_loss: 0.7009 - val_accuracy: 0.8424\n",
      "Epoch 4/20\n",
      "425/425 [==============================] - ETA: 0s - loss: 0.5826 - accuracy: 0.8517WARNING:tensorflow:Can save best model only with val_acc available, skipping.\n",
      "425/425 [==============================] - 68s 161ms/step - loss: 0.5826 - accuracy: 0.8517 - val_loss: 0.4662 - val_accuracy: 0.8988\n",
      "Epoch 5/20\n",
      "425/425 [==============================] - ETA: 0s - loss: 0.3004 - accuracy: 0.9220WARNING:tensorflow:Can save best model only with val_acc available, skipping.\n",
      "425/425 [==============================] - 73s 171ms/step - loss: 0.3004 - accuracy: 0.9220 - val_loss: 0.3783 - val_accuracy: 0.9252\n",
      "Epoch 6/20\n",
      "425/425 [==============================] - ETA: 0s - loss: 0.1477 - accuracy: 0.9652WARNING:tensorflow:Can save best model only with val_acc available, skipping.\n",
      "425/425 [==============================] - 79s 185ms/step - loss: 0.1477 - accuracy: 0.9652 - val_loss: 0.3483 - val_accuracy: 0.9329\n",
      "Epoch 7/20\n",
      "425/425 [==============================] - ETA: 0s - loss: 0.0787 - accuracy: 0.9841WARNING:tensorflow:Can save best model only with val_acc available, skipping.\n",
      "425/425 [==============================] - 76s 178ms/step - loss: 0.0787 - accuracy: 0.9841 - val_loss: 0.3466 - val_accuracy: 0.9359\n",
      "Epoch 8/20\n",
      "425/425 [==============================] - ETA: 0s - loss: 0.0424 - accuracy: 0.9909WARNING:tensorflow:Can save best model only with val_acc available, skipping.\n",
      "425/425 [==============================] - 77s 180ms/step - loss: 0.0424 - accuracy: 0.9909 - val_loss: 0.3587 - val_accuracy: 0.9385\n",
      "Epoch 9/20\n",
      "425/425 [==============================] - ETA: 0s - loss: 0.0344 - accuracy: 0.9936WARNING:tensorflow:Can save best model only with val_acc available, skipping.\n",
      "425/425 [==============================] - 78s 183ms/step - loss: 0.0344 - accuracy: 0.9936 - val_loss: 0.3686 - val_accuracy: 0.9368\n",
      "Epoch 10/20\n",
      "425/425 [==============================] - ETA: 0s - loss: 0.0286 - accuracy: 0.9938WARNING:tensorflow:Can save best model only with val_acc available, skipping.\n",
      "425/425 [==============================] - 78s 184ms/step - loss: 0.0286 - accuracy: 0.9938 - val_loss: 0.3924 - val_accuracy: 0.9395\n",
      "Epoch 10: early stopping\n"
     ]
    }
   ],
   "source": [
    "from tensorflow.keras.models import Sequential\n",
    "from tensorflow.keras.layers import Embedding, Dropout, Conv1D, GlobalMaxPooling1D, Dense\n",
    "from tensorflow.keras.callbacks import EarlyStopping, ModelCheckpoint\n",
    "from tensorflow.keras.models import load_model\n",
    "\n",
    "vocab_size = 45000\n",
    "embedding_dim = 300 # 임베딩 벡터의 차원\n",
    "dropout_ratio = 0.3 # 드롭아웃 비율\n",
    "num_filters = 256 # 커널의 수\n",
    "kernel_size = 3 # 커널의 크기\n",
    "hidden_units = 128 # 뉴런의 수\n",
    "\n",
    "model = Sequential()\n",
    "model.add(Embedding(vocab_size, embedding_dim))\n",
    "model.add(Dropout(dropout_ratio))\n",
    "model.add(Conv1D(num_filters, kernel_size, padding='valid', activation='relu'))\n",
    "model.add(GlobalMaxPooling1D())\n",
    "model.add(Dense(hidden_units, activation='relu'))\n",
    "model.add(Dropout(dropout_ratio))\n",
    "model.add(Dense(128, activation='softmax'))\n",
    "\n",
    "es = EarlyStopping(monitor='val_loss', mode='min', verbose=1, patience=3)\n",
    "mc = ModelCheckpoint('best_model.h5', monitor='val_acc', mode='max', verbose=1, save_best_only=True)\n",
    "\n",
    "model.compile(optimizer='adam', loss='categorical_crossentropy', metrics=['accuracy'])\n",
    "history = model.fit(x_train, y_train, epochs=20, validation_data=(x_val, y_val), callbacks = [es, mc])"
   ]
  },
  {
   "cell_type": "code",
   "execution_count": 112,
   "id": "af1c3fa3",
   "metadata": {},
   "outputs": [
    {
     "name": "stderr",
     "output_type": "stream",
     "text": [
      "WARNING:absl:Found untraced functions such as _jit_compiled_convolution_op while saving (showing 1 of 1). These functions will not be directly callable after loading.\n"
     ]
    },
    {
     "name": "stdout",
     "output_type": "stream",
     "text": [
      "INFO:tensorflow:Assets written to: /Users/kimjonghun/Desktop/3-2학기/캡스톤/open/keras_Text_Cnn1d/assets\n"
     ]
    },
    {
     "name": "stderr",
     "output_type": "stream",
     "text": [
      "INFO:tensorflow:Assets written to: /Users/kimjonghun/Desktop/3-2학기/캡스톤/open/keras_Text_Cnn1d/assets\n"
     ]
    }
   ],
   "source": [
    "#model.save(location + 'keras_Text_Cnn1d')"
   ]
  },
  {
   "cell_type": "code",
   "execution_count": 114,
   "id": "1849ac2e",
   "metadata": {},
   "outputs": [],
   "source": [
    "from tensorflow import keras \n",
    "model = keras.models.load_model(location + 'keras_Text_Cnn1d')"
   ]
  },
  {
   "cell_type": "code",
   "execution_count": 115,
   "id": "2cf1909d",
   "metadata": {},
   "outputs": [
    {
     "data": {
      "text/html": [
       "<div>\n",
       "<style scoped>\n",
       "    .dataframe tbody tr th:only-of-type {\n",
       "        vertical-align: middle;\n",
       "    }\n",
       "\n",
       "    .dataframe tbody tr th {\n",
       "        vertical-align: top;\n",
       "    }\n",
       "\n",
       "    .dataframe thead th {\n",
       "        text-align: right;\n",
       "    }\n",
       "</style>\n",
       "<table border=\"1\" class=\"dataframe\">\n",
       "  <thead>\n",
       "    <tr style=\"text-align: right;\">\n",
       "      <th></th>\n",
       "      <th>id</th>\n",
       "      <th>img_path</th>\n",
       "      <th>overview</th>\n",
       "    </tr>\n",
       "  </thead>\n",
       "  <tbody>\n",
       "    <tr>\n",
       "      <th>0</th>\n",
       "      <td>TEST_00000</td>\n",
       "      <td>./image/test/TEST_00000.jpg</td>\n",
       "      <td>신선한 재료로 정성을 다해 만들었다. 늘 변함없는 맛과 서비스로 모실것을 약속한다.</td>\n",
       "    </tr>\n",
       "    <tr>\n",
       "      <th>1</th>\n",
       "      <td>TEST_00001</td>\n",
       "      <td>./image/test/TEST_00001.jpg</td>\n",
       "      <td>청청한 해역 등량만과 율포해수욕장이 한눈에 내려다 보이는 위치에 있으며, 막 잡은 ...</td>\n",
       "    </tr>\n",
       "    <tr>\n",
       "      <th>2</th>\n",
       "      <td>TEST_00002</td>\n",
       "      <td>./image/test/TEST_00002.jpg</td>\n",
       "      <td>장터설렁탕은 남녀노소 누구나 즐길 수 있는 전통 건강식으로 좋은 재료와 전통 조리방...</td>\n",
       "    </tr>\n",
       "    <tr>\n",
       "      <th>3</th>\n",
       "      <td>TEST_00003</td>\n",
       "      <td>./image/test/TEST_00003.jpg</td>\n",
       "      <td>다양한 형태의 청소년수련활동을 제공함으로써 청소년들이 민주사회의 주역이 될 수 있도...</td>\n",
       "    </tr>\n",
       "    <tr>\n",
       "      <th>4</th>\n",
       "      <td>TEST_00004</td>\n",
       "      <td>./image/test/TEST_00004.jpg</td>\n",
       "      <td>팔공산은 경산시의 북쪽에 위치한 해발 1192.3 m의 높은 산으로 신라시대에는 중...</td>\n",
       "    </tr>\n",
       "    <tr>\n",
       "      <th>...</th>\n",
       "      <td>...</td>\n",
       "      <td>...</td>\n",
       "      <td>...</td>\n",
       "    </tr>\n",
       "    <tr>\n",
       "      <th>7275</th>\n",
       "      <td>TEST_07275</td>\n",
       "      <td>./image/test/TEST_07275.jpg</td>\n",
       "      <td>막국수와 수육을 주메뉴로 하며, 넓은 주차장이 마련되어 있어 주차하기 편리하다.&lt;br&gt;</td>\n",
       "    </tr>\n",
       "    <tr>\n",
       "      <th>7276</th>\n",
       "      <td>TEST_07276</td>\n",
       "      <td>./image/test/TEST_07276.jpg</td>\n",
       "      <td>통진두레문화센터는 우리고유의 전통무형문화와 민속예술을 계승/발전 시키고, 다양한 문...</td>\n",
       "    </tr>\n",
       "    <tr>\n",
       "      <th>7277</th>\n",
       "      <td>TEST_07277</td>\n",
       "      <td>./image/test/TEST_07277.jpg</td>\n",
       "      <td>수도권에서 가까운 위치, 문산천을 따라 걷는 산책코스, 한여름 더위를 날려버릴 시원...</td>\n",
       "    </tr>\n",
       "    <tr>\n",
       "      <th>7278</th>\n",
       "      <td>TEST_07278</td>\n",
       "      <td>./image/test/TEST_07278.jpg</td>\n",
       "      <td>\\n전남 구례군 관산리에 위치한 노고단 게스트하우스&amp;호텔은 지리산을 파노라마로 관망...</td>\n",
       "    </tr>\n",
       "    <tr>\n",
       "      <th>7279</th>\n",
       "      <td>TEST_07279</td>\n",
       "      <td>./image/test/TEST_07279.jpg</td>\n",
       "      <td>서귀포 산방산과 중문 관광단지 사이에 있는 건강과성박물관은 7000㎡ 크기의 실내 ...</td>\n",
       "    </tr>\n",
       "  </tbody>\n",
       "</table>\n",
       "<p>7280 rows × 3 columns</p>\n",
       "</div>"
      ],
      "text/plain": [
       "              id                     img_path  \\\n",
       "0     TEST_00000  ./image/test/TEST_00000.jpg   \n",
       "1     TEST_00001  ./image/test/TEST_00001.jpg   \n",
       "2     TEST_00002  ./image/test/TEST_00002.jpg   \n",
       "3     TEST_00003  ./image/test/TEST_00003.jpg   \n",
       "4     TEST_00004  ./image/test/TEST_00004.jpg   \n",
       "...          ...                          ...   \n",
       "7275  TEST_07275  ./image/test/TEST_07275.jpg   \n",
       "7276  TEST_07276  ./image/test/TEST_07276.jpg   \n",
       "7277  TEST_07277  ./image/test/TEST_07277.jpg   \n",
       "7278  TEST_07278  ./image/test/TEST_07278.jpg   \n",
       "7279  TEST_07279  ./image/test/TEST_07279.jpg   \n",
       "\n",
       "                                               overview  \n",
       "0        신선한 재료로 정성을 다해 만들었다. 늘 변함없는 맛과 서비스로 모실것을 약속한다.  \n",
       "1     청청한 해역 등량만과 율포해수욕장이 한눈에 내려다 보이는 위치에 있으며, 막 잡은 ...  \n",
       "2     장터설렁탕은 남녀노소 누구나 즐길 수 있는 전통 건강식으로 좋은 재료와 전통 조리방...  \n",
       "3     다양한 형태의 청소년수련활동을 제공함으로써 청소년들이 민주사회의 주역이 될 수 있도...  \n",
       "4     팔공산은 경산시의 북쪽에 위치한 해발 1192.3 m의 높은 산으로 신라시대에는 중...  \n",
       "...                                                 ...  \n",
       "7275   막국수와 수육을 주메뉴로 하며, 넓은 주차장이 마련되어 있어 주차하기 편리하다.<br>  \n",
       "7276  통진두레문화센터는 우리고유의 전통무형문화와 민속예술을 계승/발전 시키고, 다양한 문...  \n",
       "7277  수도권에서 가까운 위치, 문산천을 따라 걷는 산책코스, 한여름 더위를 날려버릴 시원...  \n",
       "7278  \\n전남 구례군 관산리에 위치한 노고단 게스트하우스&호텔은 지리산을 파노라마로 관망...  \n",
       "7279  서귀포 산방산과 중문 관광단지 사이에 있는 건강과성박물관은 7000㎡ 크기의 실내 ...  \n",
       "\n",
       "[7280 rows x 3 columns]"
      ]
     },
     "execution_count": 115,
     "metadata": {},
     "output_type": "execute_result"
    }
   ],
   "source": [
    "test_csv"
   ]
  },
  {
   "cell_type": "code",
   "execution_count": 117,
   "id": "37d7608c",
   "metadata": {},
   "outputs": [],
   "source": [
    "test_csv['overview'] = test_csv.overview.apply(mecab.nouns)"
   ]
  },
  {
   "cell_type": "code",
   "execution_count": 118,
   "id": "8c9aa713",
   "metadata": {},
   "outputs": [],
   "source": [
    "#test_ overview 정수인코딩\n",
    "from tensorflow.keras.preprocessing.text import Tokenizer\n",
    "\n",
    "tokenizer = Tokenizer()\n",
    "tokenizer.fit_on_texts(test_csv['overview'])\n",
    "encoded_overview_test = tokenizer.texts_to_sequences(test_csv['overview'])\n"
   ]
  },
  {
   "cell_type": "code",
   "execution_count": 120,
   "id": "8b050ad2",
   "metadata": {},
   "outputs": [
    {
     "data": {
      "text/plain": [
       "[238, 654, 36, 218, 6, 4520]"
      ]
     },
     "execution_count": 120,
     "metadata": {},
     "output_type": "execute_result"
    }
   ],
   "source": [
    "encoded_overview_test[0]"
   ]
  },
  {
   "cell_type": "code",
   "execution_count": 121,
   "id": "5ea6da94",
   "metadata": {},
   "outputs": [
    {
     "name": "stdout",
     "output_type": "stream",
     "text": [
      "최대 길이 : 1299\n"
     ]
    }
   ],
   "source": [
    "max_len = max(len(item) for item in encoded_overview_test)\n",
    "print('최대 길이 :',max_len)"
   ]
  },
  {
   "cell_type": "code",
   "execution_count": 122,
   "id": "500a441a",
   "metadata": {},
   "outputs": [],
   "source": [
    "max_len = 1299\n",
    "encoded_overview_test = pad_sequences(encoded_overview_test, maxlen=max_len)"
   ]
  },
  {
   "cell_type": "code",
   "execution_count": 125,
   "id": "5ad24843",
   "metadata": {},
   "outputs": [
    {
     "name": "stdout",
     "output_type": "stream",
     "text": [
      "228/228 [==============================] - 8s 34ms/step\n"
     ]
    }
   ],
   "source": [
    "prediction = model.predict(encoded_overview_test)"
   ]
  },
  {
   "cell_type": "code",
   "execution_count": null,
   "id": "700bbeab",
   "metadata": {},
   "outputs": [],
   "source": []
  }
 ],
 "metadata": {
  "kernelspec": {
   "display_name": "Python 3 (ipykernel)",
   "language": "python",
   "name": "python3"
  },
  "language_info": {
   "codemirror_mode": {
    "name": "ipython",
    "version": 3
   },
   "file_extension": ".py",
   "mimetype": "text/x-python",
   "name": "python",
   "nbconvert_exporter": "python",
   "pygments_lexer": "ipython3",
   "version": "3.8.13"
  }
 },
 "nbformat": 4,
 "nbformat_minor": 5
}
